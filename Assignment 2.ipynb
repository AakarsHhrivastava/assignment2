{
 "cells": [
  {
   "cell_type": "code",
   "execution_count": 1,
   "id": "294e957b-8f41-4b6f-8f29-6854bea532f3",
   "metadata": {},
   "outputs": [],
   "source": [
    "#Q1. How do you comment code in Python? What are the different types of comments?"
   ]
  },
  {
   "cell_type": "code",
   "execution_count": 2,
   "id": "ed1f9162-925d-4e86-92a3-5f1d79e186c9",
   "metadata": {},
   "outputs": [],
   "source": [
    "# in python we can add comment \n",
    "# for single line comment we use (#)\n",
    "# for multi line comment we use ''' this is multiline comment'''"
   ]
  },
  {
   "cell_type": "code",
   "execution_count": 3,
   "id": "779a27a1-e211-40d2-b9d9-3af854e9ad68",
   "metadata": {},
   "outputs": [],
   "source": [
    "#Q2. What are variables in Python? How do you declare and assign values to variables?"
   ]
  },
  {
   "cell_type": "code",
   "execution_count": 4,
   "id": "6faec96d-09e2-4df1-9f13-689252a3e88c",
   "metadata": {},
   "outputs": [],
   "source": [
    "#In Python, variables are used to store and manipulate data.\n",
    "# To declare and assign a value to a variable in Python, we simply use the assignment operator (=)\n"
   ]
  },
  {
   "cell_type": "code",
   "execution_count": 5,
   "id": "52765b8e-2049-4b61-ad40-497fe056819a",
   "metadata": {},
   "outputs": [],
   "source": [
    "#Example"
   ]
  },
  {
   "cell_type": "code",
   "execution_count": 6,
   "id": "caf9392e-6370-409a-b371-68b4a4d86bc1",
   "metadata": {},
   "outputs": [],
   "source": [
    "a = 2"
   ]
  },
  {
   "cell_type": "code",
   "execution_count": 7,
   "id": "cfb711f1-fb1e-40ef-bed9-7c748076716d",
   "metadata": {},
   "outputs": [
    {
     "data": {
      "text/plain": [
       "2"
      ]
     },
     "execution_count": 7,
     "metadata": {},
     "output_type": "execute_result"
    }
   ],
   "source": [
    "a"
   ]
  },
  {
   "cell_type": "code",
   "execution_count": 8,
   "id": "309c7fbd-e33c-46b3-b784-68631e09c76a",
   "metadata": {},
   "outputs": [],
   "source": [
    "#Q3. How do you convert one data type to another in Python?"
   ]
  },
  {
   "cell_type": "code",
   "execution_count": 9,
   "id": "30412004-cc21-4c25-82ac-d3ff7e8c7df2",
   "metadata": {},
   "outputs": [],
   "source": [
    "#In Python,we can convert one data type to another using type conversion functions"
   ]
  },
  {
   "cell_type": "code",
   "execution_count": 10,
   "id": "5c6f3feb-5b5c-4bc2-8e37-ba87a13ad679",
   "metadata": {},
   "outputs": [],
   "source": [
    "num_1 = \"10\""
   ]
  },
  {
   "cell_type": "code",
   "execution_count": 11,
   "id": "8c871cf8-391b-4860-a9ec-c5f452be2fdc",
   "metadata": {},
   "outputs": [
    {
     "data": {
      "text/plain": [
       "str"
      ]
     },
     "execution_count": 11,
     "metadata": {},
     "output_type": "execute_result"
    }
   ],
   "source": [
    "type(num_1)"
   ]
  },
  {
   "cell_type": "code",
   "execution_count": 12,
   "id": "8b9d2edc-afe9-48e3-8eb1-880d289cd000",
   "metadata": {},
   "outputs": [],
   "source": [
    "num_1 = int(num_1)"
   ]
  },
  {
   "cell_type": "code",
   "execution_count": 13,
   "id": "884ba5c1-3849-4f65-8e23-d2b7d28073bb",
   "metadata": {},
   "outputs": [
    {
     "data": {
      "text/plain": [
       "int"
      ]
     },
     "execution_count": 13,
     "metadata": {},
     "output_type": "execute_result"
    }
   ],
   "source": [
    "type(num_1)"
   ]
  },
  {
   "cell_type": "code",
   "execution_count": 14,
   "id": "80e2ffda-d233-4c0a-a501-d2b1d647d3f2",
   "metadata": {},
   "outputs": [],
   "source": [
    "#Q4. How do you write and execute a Python script from the command line?"
   ]
  },
  {
   "cell_type": "code",
   "execution_count": 15,
   "id": "be5fbedb-472f-4564-a928-72416dbb259e",
   "metadata": {},
   "outputs": [],
   "source": [
    "#Open a text editor and create a new file. we can use any text editor of our choice, such as jupyter, Sublime Text, or Visual Studio Code\n",
    "#For example, let's say we want to print \"Hello, World!\" to the console."
   ]
  },
  {
   "cell_type": "code",
   "execution_count": 16,
   "id": "e946de9b-9526-40d0-9678-37553505d88e",
   "metadata": {},
   "outputs": [
    {
     "name": "stdout",
     "output_type": "stream",
     "text": [
      "hello world\n"
     ]
    }
   ],
   "source": [
    "print(\"hello world\")"
   ]
  },
  {
   "cell_type": "code",
   "execution_count": 17,
   "id": "79d73da8-7b13-4392-a2f9-4d19d7df4a89",
   "metadata": {},
   "outputs": [],
   "source": [
    "#Save the file with a .py extension."
   ]
  },
  {
   "cell_type": "code",
   "execution_count": 18,
   "id": "4053aeb0-b505-4ca7-a007-1b29b960c342",
   "metadata": {},
   "outputs": [],
   "source": [
    "#Q5. Given a list my_list = [1, 2, 3, 4, 5], write the code to slice the list and obtain the sub-list [2, 3]."
   ]
  },
  {
   "cell_type": "code",
   "execution_count": 20,
   "id": "5470c97e-ed78-4ad5-a0e7-086e5323797d",
   "metadata": {},
   "outputs": [
    {
     "name": "stdout",
     "output_type": "stream",
     "text": [
      "[2, 3]\n"
     ]
    }
   ],
   "source": [
    "my_list = [1,2,3,4,5]\n",
    "sub_list = my_list[1:3]\n",
    "print(sub_list)"
   ]
  },
  {
   "cell_type": "code",
   "execution_count": 21,
   "id": "02d8f2c9-3d98-4b13-aee6-e040e57476e9",
   "metadata": {},
   "outputs": [],
   "source": [
    "#Q6. What is a complex number in mathematics, and how is it represented in Python?"
   ]
  },
  {
   "cell_type": "code",
   "execution_count": 22,
   "id": "5c76eeca-6a08-4c17-b3ba-6b7479ea27a4",
   "metadata": {},
   "outputs": [],
   "source": [
    "#In mathematics, a complex number is a number that can be expressed in the form a + bi\n",
    "# in python we can represent complex number like for example 3 +4j where 3 is real part and j is imaginary"
   ]
  },
  {
   "cell_type": "code",
   "execution_count": 24,
   "id": "580a3fe8-8a79-42ca-9cee-90c475639173",
   "metadata": {},
   "outputs": [],
   "source": [
    "a =3+4j"
   ]
  },
  {
   "cell_type": "code",
   "execution_count": 25,
   "id": "fdda409d-6535-4e3a-a204-a81d82d8e3c9",
   "metadata": {},
   "outputs": [
    {
     "data": {
      "text/plain": [
       "complex"
      ]
     },
     "execution_count": 25,
     "metadata": {},
     "output_type": "execute_result"
    }
   ],
   "source": [
    "type(a)"
   ]
  },
  {
   "cell_type": "code",
   "execution_count": 26,
   "id": "5339bc0e-a8b0-4bad-b4e1-0f693a66df46",
   "metadata": {},
   "outputs": [
    {
     "data": {
      "text/plain": [
       "4.0"
      ]
     },
     "execution_count": 26,
     "metadata": {},
     "output_type": "execute_result"
    }
   ],
   "source": [
    "a.imag"
   ]
  },
  {
   "cell_type": "code",
   "execution_count": 29,
   "id": "d38ac69e-20e9-41a8-bf04-1c6bb7decf05",
   "metadata": {},
   "outputs": [
    {
     "data": {
      "text/plain": [
       "3.0"
      ]
     },
     "execution_count": 29,
     "metadata": {},
     "output_type": "execute_result"
    }
   ],
   "source": [
    "a.real"
   ]
  },
  {
   "cell_type": "code",
   "execution_count": 30,
   "id": "45a3ec87-9c1d-4765-85c8-0d0bb2130793",
   "metadata": {},
   "outputs": [],
   "source": [
    "#Q7. What is the correct way to declare a variable named age and assign the value 25 to it?"
   ]
  },
  {
   "cell_type": "code",
   "execution_count": 31,
   "id": "31fe8c8b-b63a-4a05-96ab-c7edd0e3aa28",
   "metadata": {},
   "outputs": [],
   "source": [
    "# the correct way is\n",
    "age = 25"
   ]
  },
  {
   "cell_type": "code",
   "execution_count": 32,
   "id": "28a7ed0d-7d15-430c-b977-9a642fbff5fe",
   "metadata": {},
   "outputs": [
    {
     "data": {
      "text/plain": [
       "25"
      ]
     },
     "execution_count": 32,
     "metadata": {},
     "output_type": "execute_result"
    }
   ],
   "source": [
    "age"
   ]
  },
  {
   "cell_type": "code",
   "execution_count": 33,
   "id": "fe552bd5-7150-4e23-b0c1-446cb0c12cbf",
   "metadata": {},
   "outputs": [],
   "source": [
    "#Q8. Declare a variable named price and assign the value 9.99 to it. What data type does this variable belong to?\n"
   ]
  },
  {
   "cell_type": "code",
   "execution_count": 34,
   "id": "271a1984-f1dc-4be9-9506-038d1bfa1a5f",
   "metadata": {},
   "outputs": [],
   "source": [
    "price = 9.99"
   ]
  },
  {
   "cell_type": "code",
   "execution_count": 35,
   "id": "ce48bd86-52c6-41de-99a4-1719b6ca99de",
   "metadata": {},
   "outputs": [
    {
     "data": {
      "text/plain": [
       "9.99"
      ]
     },
     "execution_count": 35,
     "metadata": {},
     "output_type": "execute_result"
    }
   ],
   "source": [
    "price"
   ]
  },
  {
   "cell_type": "code",
   "execution_count": 36,
   "id": "ef6763ba-9b87-4765-8a48-723fd3f7ce91",
   "metadata": {},
   "outputs": [
    {
     "data": {
      "text/plain": [
       "float"
      ]
     },
     "execution_count": 36,
     "metadata": {},
     "output_type": "execute_result"
    }
   ],
   "source": [
    "type(price)"
   ]
  },
  {
   "cell_type": "code",
   "execution_count": 37,
   "id": "3d5d1053-e064-4194-bef5-a584d097b61b",
   "metadata": {},
   "outputs": [],
   "source": [
    "#its data type is float"
   ]
  },
  {
   "cell_type": "code",
   "execution_count": 38,
   "id": "feb3e566-8127-4a3c-bb2e-84a70f95939d",
   "metadata": {},
   "outputs": [],
   "source": [
    "#Q9. Create a variable named name and assign your full name to it as a string. How would you print the value of this variable?\n"
   ]
  },
  {
   "cell_type": "code",
   "execution_count": 39,
   "id": "e5a21141-115b-41fa-9432-ec20078a2655",
   "metadata": {},
   "outputs": [],
   "source": [
    "name = \"Aakarsh Shrivastava\""
   ]
  },
  {
   "cell_type": "code",
   "execution_count": 40,
   "id": "46b13cd0-678d-4779-9c10-667415fd97fe",
   "metadata": {},
   "outputs": [
    {
     "name": "stdout",
     "output_type": "stream",
     "text": [
      "Aakarsh Shrivastava\n"
     ]
    }
   ],
   "source": [
    "print(name)"
   ]
  },
  {
   "cell_type": "code",
   "execution_count": 41,
   "id": "ee9a8158-e650-447b-a15f-e8eec291e4c7",
   "metadata": {},
   "outputs": [],
   "source": [
    "#Q10. Given the string \"Hello, World!\", extract the substring \"World\"."
   ]
  },
  {
   "cell_type": "code",
   "execution_count": 45,
   "id": "59f99046-00ed-4c5b-9043-1ad8103985a3",
   "metadata": {},
   "outputs": [
    {
     "name": "stdout",
     "output_type": "stream",
     "text": [
      "world\n"
     ]
    }
   ],
   "source": [
    "a = \"hello world\"\n",
    "substring = a[6:12]\n",
    "print(substring)"
   ]
  },
  {
   "cell_type": "code",
   "execution_count": 46,
   "id": "ed9b6880-3c33-4d61-ba2c-95571cedf221",
   "metadata": {},
   "outputs": [],
   "source": [
    "#Q11. Create a variable named \"is_student\" and assign it a boolean value indicating whether you are currently a student or not.\n"
   ]
  },
  {
   "cell_type": "code",
   "execution_count": 50,
   "id": "47a5d279-c8b0-4e83-a666-acb9161d0755",
   "metadata": {},
   "outputs": [],
   "source": [
    " is_student = True \n",
    "#he is a student \n"
   ]
  },
  {
   "cell_type": "code",
   "execution_count": null,
   "id": "b97334e9-8857-484e-9068-eda5998067b7",
   "metadata": {},
   "outputs": [],
   "source": [
    " is_student = False \n",
    "# he is not a STUDEN"
   ]
  }
 ],
 "metadata": {
  "kernelspec": {
   "display_name": "Python 3 (ipykernel)",
   "language": "python",
   "name": "python3"
  },
  "language_info": {
   "codemirror_mode": {
    "name": "ipython",
    "version": 3
   },
   "file_extension": ".py",
   "mimetype": "text/x-python",
   "name": "python",
   "nbconvert_exporter": "python",
   "pygments_lexer": "ipython3",
   "version": "3.10.8"
  }
 },
 "nbformat": 4,
 "nbformat_minor": 5
}
